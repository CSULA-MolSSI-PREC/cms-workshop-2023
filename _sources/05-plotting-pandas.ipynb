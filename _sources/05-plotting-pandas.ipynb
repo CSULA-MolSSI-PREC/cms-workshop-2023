{
 "cells": [
  {
   "cell_type": "markdown",
   "id": "a0051f53",
   "metadata": {},
   "source": [
    "# Plotting and Data Visualization\n",
    "\n",
    "```{admonition} Overview\n",
    ":class: overview\n",
    "\n",
    "Questions:\n",
    "\n",
    "* How do I visualize data by making graphs?\n",
    "\n",
    "Objectives:\n",
    "\n",
    "* Plot data from a 'pandas dataframe'.\n",
    "\n",
    "* Label and customize graph.\n",
    "\n",
    "* Save figures to files.\n",
    "\n",
    "* Plot multiple graphs on one figure.\n",
    "\n",
    "* Create multiple figures using a 'for' loop\n",
    "```\n",
    "\n",
    "Plotting is one of the most effective methods of representing numerical data and illustrating their patterns and trends.  There are a number of applications that facilitate graph creation (Excel, Origin, SciDavis, etc.), but these methods can be time consuming, tedious, and at times inflexible.  We have already seen the potential of coding for reading/editing/saving multiple files at once, as well as in creating tables from raw data in a 'CSV' file.  Taking what we have learned so far, we will focus in this module on creating plots from the data in the previous lesson, customizing the plots with color, design, labels and legends, and using loops to create multiple figures at once.\n",
    "\n",
    "### Prepare data for plotting\n",
    "\n",
    "First, we need to import pandas and load our data into variables.  These lines should look familiar from the previous lesson.\n"
   ]
  },
  {
   "cell_type": "code",
   "execution_count": null,
   "id": "854443f7",
   "metadata": {},
   "outputs": [],
   "source": [
    "import pandas as pd\n",
    "\n",
    "distance_file = \"data/distance_data_headers.csv\"\n",
    "\n",
    "distances = pd.read_csv(distance_file)\n",
    "\n",
    "distances"
   ]
  },
  {
   "cell_type": "markdown",
   "id": "e404aca2",
   "metadata": {},
   "source": [
    "## Plotting Data\n",
    "\n",
    "A data set is plotted using the 'plot()' function of matplotlib.pyplot.  By using the pandas DataFrame object for our tabular data, we can refer to the desired column by its header name.  If you want to see how this simplifies working with our data, check out the \"Prepare for Plotting section\" at the top of the [original lesson](https://education.molssi.org/python_scripting_cms/05-plotting/index.html) from which this one was adapted."
   ]
  },
  {
   "cell_type": "code",
   "execution_count": null,
   "id": "8e154e48",
   "metadata": {},
   "outputs": [],
   "source": [
    "import matplotlib.pyplot as plt"
   ]
  },
  {
   "cell_type": "code",
   "execution_count": null,
   "id": "ce2d782c",
   "metadata": {},
   "outputs": [],
   "source": [
    "plt.figure()     #This initializes a new figure\n",
    "plt.plot(distances[\"THR4_ATP\"])"
   ]
  },
  {
   "cell_type": "markdown",
   "id": "f8ef327f",
   "metadata": {},
   "source": [
    "``````{admonition} Check Your Understanding\n",
    ":class: exercise\n",
    "\n",
    "How would you get make the same plot using the iloc command? \n",
    "\n",
    "````{admonition} Solution\n",
    ":class: solution dropdown\n",
    "\n",
    "```python\n",
    "# THR4_ATP is the second column, and we want all rows\n",
    "plt.figure()\n",
    "plt.plot(distances.iloc[:,1])\n",
    "```\n",
    "````\n",
    "``````"
   ]
  },
  {
   "cell_type": "markdown",
   "id": "6c611062",
   "metadata": {},
   "source": [
    "### Plotting with x and y\n",
    "\n",
    "The data here are relatively straightforward, with the Frame column serving as a simple x value for the rest of the columns.  Often however, it is necessary to show trends or patterns in data in relation to a variety of independent variables.  If you have data that contains multiple x columns, it can be helpful to specify the x and y values we wish to use.  In with 'pyplot', the first two parameters in the 'plot()' function are 'x' and 'y' by default."
   ]
  },
  {
   "cell_type": "code",
   "execution_count": null,
   "id": "803a5b9e",
   "metadata": {},
   "outputs": [],
   "source": [
    "plt.figure()\n",
    "plt.plot(distances[\"Frame\"], distances[\"TYR6_ASP\"])"
   ]
  },
  {
   "cell_type": "markdown",
   "id": "9d547cf8",
   "metadata": {},
   "source": [
    "'x' and 'y' must also be specified if we wanted to plot the data non-sequentially, say at regular intervals.  To do this we will use a new slicing syntax. To select frames at regular intervals, we can use the syntax 'array[start:stop:interval]'.\n",
    "\n",
    "#### Slicing at regular intervals\n",
    "\n",
    "Let's start with viewing this slice in a table"
   ]
  },
  {
   "cell_type": "code",
   "execution_count": null,
   "id": "8e9a2947",
   "metadata": {},
   "outputs": [],
   "source": [
    "print(distances.iloc[0:1000:100,1:])    # to use the whole data set, simply leave out the stopping point integer, as before"
   ]
  },
  {
   "cell_type": "markdown",
   "id": "1290749f",
   "metadata": {},
   "source": [
    "Here is our new figure:"
   ]
  },
  {
   "cell_type": "code",
   "execution_count": null,
   "id": "323c083d",
   "metadata": {},
   "outputs": [],
   "source": [
    "plt.figure()\n",
    "plt.plot(distances.iloc[::100,0], distances.iloc[::100,1])"
   ]
  },
  {
   "cell_type": "markdown",
   "id": "2f61e2a7",
   "metadata": {},
   "source": [
    "### Labels and Legends\n",
    "\n",
    "To add labels and legends, add them to the initialized figure using 'functions' belonging to 'pyplot'.  We can use variables to create them, which will also save us time later on.\n",
    "\n",
    "```{admonition} Saving precious keystrokes\n",
    ":class: tip\n",
    "\n",
    "The data labels in our set are all caps mixed with numbers and an underscore.  They are going to be cumbersome to reference, so we'll assign them to a variable for later before moving on.\n",
    "```"
   ]
  },
  {
   "cell_type": "code",
   "execution_count": null,
   "id": "5acba4c3",
   "metadata": {},
   "outputs": [],
   "source": [
    "top = distances.columns    # Creates a list of column headers\n",
    "for i in top:    # loop through headers and print them one by one\n",
    "    print(i)"
   ]
  },
  {
   "cell_type": "code",
   "execution_count": null,
   "id": "801d474d",
   "metadata": {},
   "outputs": [],
   "source": [
    "plt.figure()\n",
    "plt.xlabel('Frame')\n",
    "plt.ylabel('distance (\\u212B)')    # Gettin' fancy with unicode characters\n",
    "plt.title('Looks legit now, right?')\n",
    "# Now we can reference the columns with our new list of headers\n",
    "fig_1 = plt.plot(distances[top[0]], distances[top[2]], label=top[2])\n",
    "plt.legend()"
   ]
  },
  {
   "cell_type": "markdown",
   "id": "3dbf7157",
   "metadata": {},
   "source": [
    "### Different kinds of charts\n",
    "\n",
    "There are a variety of short strings that can be passed to the plot funtion convert the default line graph into a dashed line, scatter plot with various markers etc."
   ]
  },
  {
   "cell_type": "code",
   "execution_count": null,
   "id": "f800c86f",
   "metadata": {},
   "outputs": [],
   "source": [
    "plt.figure()\n",
    "plt.xlabel('Frame')\n",
    "plt.ylabel('distance (\\u212B)')    # Gettin' fancy with unicode characters\n",
    "plt.title(f'{top[3]} Frame by Frame')\n",
    "fig_2 = plt.plot(distances[top[0]], distances[top[3]], 'o', label=top[3])\n",
    "plt.legend()"
   ]
  },
  {
   "cell_type": "code",
   "execution_count": null,
   "id": "ae5e49f2",
   "metadata": {},
   "outputs": [],
   "source": [
    "plt.figure()\n",
    "plt.xlabel('Frame')\n",
    "plt.ylabel('distance (\\u212B)')    # Gettin' fancy with unicode characters\n",
    "plt.title(f'{top[3]} Frame by Frame')\n",
    "# a cleaner plot by taking intervals, changing the markers, adding a dashed line between them, and adjusting sizes\n",
    "fig_3 = plt.plot(distances.iloc[::100,0], distances.iloc[::100,3], '--*', markersize=4, linewidth=1, label=top[3])\n",
    "plt.legend()"
   ]
  },
  {
   "cell_type": "markdown",
   "id": "a50e31ba",
   "metadata": {},
   "source": [
    "Here is a list of options you can use.\n",
    "\n",
    "> character\tdescription\n",
    "> '-'\tsolid line style\n",
    "> '--'\tdashed line style\n",
    "> '-.'\tdash-dot line style\n",
    "> ':'\tdotted line style\n",
    "> '.'\tpoint marker\n",
    "> ','\tpixel marker\n",
    "> 'o'\tcircle marker\n",
    "> 'v'\ttriangle_down marker\n",
    "> '^'\ttriangle_up marker\n",
    "> '<'\ttriangle_left marker\n",
    "> '>'\ttriangle_right marker\n",
    "> '1'\ttri_down marker\n",
    "> '2'\ttri_up marker\n",
    "> '3'\ttri_left marker\n",
    "> '4'\ttri_right marker\n",
    "> 's'\tsquare marker\n",
    "> 'p'\tpentagon marker\n",
    "> '*'\tstar marker\n",
    "> 'h'\thexagon1 marker\n",
    "> 'H'\thexagon2 marker\n",
    "> '+'\tplus marker\n",
    "> 'x'\tx marker\n",
    "> 'D'\tdiamond marker\n",
    "> 'd'\tthin_diamond marker\n",
    "> '|'\tvline marker\n",
    "> '_'\thline marker\n",
    "> '''"
   ]
  },
  {
   "cell_type": "markdown",
   "id": "0bea55ec",
   "metadata": {},
   "source": [
    "### Changing color and image size\n",
    "\n",
    "Before saving, let's first learn how to change the colors and image size of our plots.  For more customizations see the [matplotlib.pyplot.plot function api](https://matplotlib.org/stable/api/_as_gen/matplotlib.pyplot.plot.html)\n",
    "\n",
    "The axes can also be customized using the [plt.axes api](https://matplotlib.org/stable/api/_as_gen/matplotlib.pyplot.axes.html)\n",
    "\n",
    "```{admonition} Plotting with pandas\n",
    "\n",
    ":class: tip\n",
    "\n",
    "pandas has plotting functionality as well, using the syntax dataframe.plot().  It is particularly efficient at creating normal/stacked/nested bar graphs and pie charts.  If this is useful to you, check out the [DataFrame.plot API](https://pandas.pydata.org/pandas-docs/stable/reference/api/pandas.DataFrame.plot.html)\n",
    "```"
   ]
  },
  {
   "cell_type": "code",
   "execution_count": null,
   "id": "fa945be7",
   "metadata": {},
   "outputs": [],
   "source": [
    "plt.figure(figsize=(10, 6))    # Set the figure size when you initialize the figure\n",
    "plt.xlabel('Frame')\n",
    "plt.ylabel('distance (\\u212B)')    # Gettin' fancy with unicode characters\n",
    "plt.title(f'{top[1]} per 100 Frames')\n",
    "# set colors and linewidths in the plot funtion. separating parameters in lines for readability\n",
    "plt.plot(\n",
    "    distances.iloc[::100,0], \n",
    "    distances.iloc[::100,1], \n",
    "    '--s', \n",
    "    color='#FFCE00',\n",
    "    markersize=4, \n",
    "    markeredgecolor='000000',\n",
    "    markeredgewidth=1,\n",
    "    linewidth=1, \n",
    "    label=top[1]\n",
    ")\n",
    "plt.legend()"
   ]
  },
  {
   "cell_type": "markdown",
   "id": "4562b7ff",
   "metadata": {},
   "source": [
    "### Saving the Figure and Setting the Resolution\n",
    "\n",
    "Set the resolution when you save the image using the syntax 'figure.savefig(filename, dpi)'"
   ]
  },
  {
   "cell_type": "code",
   "execution_count": null,
   "id": "fb67ed37",
   "metadata": {},
   "outputs": [],
   "source": [
    "plt.figure(figsize=(10, 6))\n",
    "plt.xlabel('Frame')\n",
    "plt.ylabel('distance (\\u212B)')\n",
    "plt.title(f'{top[1]} per 100 Frames')\n",
    "plt.plot(\n",
    "    distances.iloc[::100,0], \n",
    "    distances.iloc[::100,1], \n",
    "    '--s', \n",
    "    color='#FFCE00',\n",
    "    markersize=4, \n",
    "    markeredgecolor='000000',\n",
    "    markeredgewidth=1,\n",
    "    linewidth=1, \n",
    "    label=top[1]\n",
    ")\n",
    "plt.legend()\n",
    "# rename the variable with the figure to something more useful for a file\n",
    "plt.savefig(f'{top[1]}.png', dpi=300)"
   ]
  },
  {
   "cell_type": "markdown",
   "id": "53472d09",
   "metadata": {},
   "source": [
    "## Plotting More Than One Set of Data\n",
    "\n",
    "### Multiple Sets On a Single Plot\n",
    "\n",
    "Adding additional data sets to the same plot can be done simpy by using a series of plot commands."
   ]
  },
  {
   "cell_type": "code",
   "execution_count": null,
   "id": "a276da3b",
   "metadata": {},
   "outputs": [],
   "source": [
    "plt.figure(figsize=(10, 6))\n",
    "plt.xlabel('Frame')\n",
    "plt.ylabel('distance (\\u212B)')\n",
    "plt.title(f'{top[1]} and {top[2]} per 100 Frames')\n",
    "plt.plot(\n",
    "    distances.iloc[::100,0], \n",
    "    distances.iloc[::100,1], \n",
    "    '--s', \n",
    "    color='#FFCE00',\n",
    "    markersize=4, \n",
    "    markeredgecolor='000000',\n",
    "    markeredgewidth=1,\n",
    "    linewidth=1, \n",
    "    label=top[1]\n",
    ")\n",
    "plt.plot(\n",
    "    distances.iloc[::100,0], \n",
    "    distances.iloc[::100,2], \n",
    "    '--s', \n",
    "    color='#2C7619',\n",
    "    markersize=4, \n",
    "    markeredgecolor='#FFCE00',\n",
    "    markeredgewidth=1,\n",
    "    linewidth=1, \n",
    "    label=top[2]\n",
    ")\n",
    "plt.legend()"
   ]
  },
  {
   "cell_type": "markdown",
   "id": "04c637da",
   "metadata": {},
   "source": [
    "Multiple plots can also be added by taking a slice of the data, although this precludes customization.\n",
    "\n",
    "```{admonition} Challenge Question\n",
    ":class: exercise\n",
    "\n",
    "If you made a custom list of colors, can you use a for loop to accomplish the same thing?  How about colors and markers?\n",
    "```"
   ]
  },
  {
   "cell_type": "code",
   "execution_count": null,
   "id": "2d6ace0c",
   "metadata": {},
   "outputs": [],
   "source": [
    "plt.figure(figsize=(10, 6))\n",
    "plt.xlabel('Frame')\n",
    "plt.ylabel('distance (\\u212B)')\n",
    "plt.title('Samples per 100 Frames')\n",
    "plt.plot(\n",
    "    distances.iloc[::100,0], \n",
    "    distances.iloc[::100,1:], \n",
    "    '--s', \n",
    "    markersize=4, \n",
    "    markeredgewidth=1,\n",
    "    markeredgecolor='#000000',\n",
    "    linewidth=1, \n",
    "    label=top[1]\n",
    ")\n",
    "plt.legend()\n",
    "plt.savefig('all.png', dpi=300)"
   ]
  },
  {
   "cell_type": "markdown",
   "id": "ac486155",
   "metadata": {},
   "source": [
    "### Multiple Subplots in One Figure\n",
    "\n",
    "A figure composed of subplots can be created by setting the boolean parameter 'subplots' to true in the plot command."
   ]
  },
  {
   "cell_type": "code",
   "execution_count": null,
   "id": "f5569061",
   "metadata": {},
   "outputs": [],
   "source": [
    "# the subplots command initializes a figure and assigns it subplots.\n",
    "# this is two variables, a figure object and a list of plot objects, so we need to assign two variables\n",
    "fig, axs = plt.subplots(2, 2, figsize=(10, 10), sharex='col', sharey='row', constrained_layout=True)\n",
    "\n",
    "tracker = 1    # for the iloc command.  could also be used for the challenge question above\n",
    "for ax, header in zip(axs.flat, top[1:]):\n",
    "    ax.plot(\n",
    "        distances.iloc[::100,0], \n",
    "        distances.iloc[::100,tracker], \n",
    "    '--s', \n",
    "    color='#FFCE00',\n",
    "    markersize=4, \n",
    "    markeredgewidth=1,\n",
    "    markeredgecolor='#000000',\n",
    "    linewidth=1, \n",
    "    label=header,\n",
    "    )\n",
    "    ax.legend()\n",
    "    tracker += 1\n",
    "\n",
    "# normally the labels are attached to the axes objects, so for a subplot\n",
    "fig.suptitle('Samples per 100 Frames')\n",
    "fig.supxlabel('Frame')\n",
    "fig.supylabel('distance (\\u212B)')\n",
    "plt.savefig('subplot_all.png', dpi=300)"
   ]
  },
  {
   "cell_type": "markdown",
   "id": "3351a81b",
   "metadata": {},
   "source": [
    "### Multiple Figures Using Loops\n",
    "\n",
    "Suppose instead in our reporting we wanted to discuss each plot in turn.  As long as the settings are consistent, we can generate, modify, and save a series of figures with a single block of code!"
   ]
  },
  {
   "cell_type": "code",
   "execution_count": null,
   "id": "f85da383",
   "metadata": {},
   "outputs": [],
   "source": [
    "# loop through the list of headers, creating a new figure with each cycle\n",
    "for i in range(1,len(top)): \n",
    "    fname = f\"{top[i]}.png\"\n",
    "    plt.figure(figsize=(10, 6))\n",
    "    plt.xlabel('Frame')\n",
    "    plt.ylabel('distance (\\u212B)')\n",
    "    plt.title(f'{top[i]} per 100 Frames')\n",
    "    plt.plot(\n",
    "        distances.iloc[::100,0], \n",
    "        distances.iloc[::100,i], \n",
    "        '--s', \n",
    "        color='#FFCE00',\n",
    "        markersize=4, \n",
    "        markeredgecolor='000000',\n",
    "        markeredgewidth=1,\n",
    "        linewidth=1, \n",
    "        label=top[i]\n",
    "    )\n",
    "    plt.legend()\n",
    "    plt.savefig(fname, dpi=300)"
   ]
  },
  {
   "cell_type": "markdown",
   "id": "c5ee37a7",
   "metadata": {},
   "source": [
    "#### range(len(list))\n",
    "\n",
    "There are five headers in our data, so the 'len(top)' function returns 5.  Taking the range of the length however, returns a list object iterating over the indices of the list in the length function.\n",
    "So:\n",
    "    len(top) == 5\n",
    "but\n",
    "    range(len(top)) == [0,1,2,3,4]\n",
    "so\n",
    "    range(1,len(top)) == [1,2,3,4]"
   ]
  },
  {
   "cell_type": "markdown",
   "id": "2feb2345",
   "metadata": {},
   "source": [
    "``````{admonition} Challenge time!\n",
    ":class: exercise\n",
    "\n",
    "In our data reporting, it has been decided that we need to take each of the plots and overlay an average of all the samples for comparison.  We'll need to create a column of the average distances between the 4 existing columns and graph that on top of each sample plot.  This will be too busy though, so we only want to graph one point for every hundred. Don't have a lot of time either, so best use a for loop.\n",
    "\n",
    "````{admonition} Solution\n",
    ":class: solution dropdown\n",
    "\n",
    "```python\n",
    "# 1 - add the averages column\n",
    "distances['mean'] = distances.iloc[:,1:4].mean(axis=1)\n",
    "\n",
    "# 2 - create the figures\n",
    "for i in range(1,len(top)): \n",
    "    fname = f\"{top[i]}.png\"\n",
    "    plt.figure(figsize=(10, 6))\n",
    "    plt.xlabel('Frame')\n",
    "    plt.ylabel('distance (\\u212B)')\n",
    "    plt.title(f'{top[i]} per 100 Frames')\n",
    "    plt.plot(\n",
    "        distances.iloc[::100,0], \n",
    "        distances.iloc[::100,i], \n",
    "        '-s', \n",
    "        color='#FFCE00',\n",
    "        markersize=4, \n",
    "        markeredgecolor='000000',\n",
    "        markeredgewidth=1,\n",
    "        linewidth=1, \n",
    "        label=top[i]\n",
    "    )\n",
    "    plt.plot(\n",
    "        distances.iloc[::100,0], \n",
    "        distances.iloc[::100,5], \n",
    "        '--', \n",
    "        color='#2C7619',\n",
    "        linewidth=1, \n",
    "        label='mean'\n",
    "    )\n",
    "    plt.legend()\n",
    "    plt.savefig(fname, dpi=300)\n",
    "```\n",
    "````\n",
    "``````"
   ]
  },
  {
   "cell_type": "markdown",
   "id": "7dac22bc",
   "metadata": {},
   "source": [
    "``````{admonition} Key Points\n",
    ":class: key\n",
    "\n",
    "* Use pandas to generate figures from tabular data with the 'plot()' function\n",
    "\n",
    "* Create a variety of chart types with either the 'kind' keyword or the chart method\n",
    "\n",
    "* Add labels, legends, color, and other stylistic choices to figures by passing parameters to plot\n",
    "\n",
    "* Work with multiple data sets, either with the 'iloc[]' syntax, 'for' loops, or simple overlay\n",
    "\n",
    "* Use the matplotlib.pyplot functions 'get_figure()' and 'savefig()' to save the figure to a file\n",
    "\n",
    "``````"
   ]
  }
 ],
 "metadata": {
  "kernelspec": {
   "display_name": "Python 3 (ipykernel)",
   "language": "python",
   "name": "python3"
  },
  "language_info": {
   "codemirror_mode": {
    "name": "ipython",
    "version": 3
   },
   "file_extension": ".py",
   "mimetype": "text/x-python",
   "name": "python",
   "nbconvert_exporter": "python",
   "pygments_lexer": "ipython3",
   "version": "3.10.6"
  }
 },
 "nbformat": 4,
 "nbformat_minor": 5
}
