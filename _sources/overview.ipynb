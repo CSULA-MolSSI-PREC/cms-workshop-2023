{
 "cells": [
  {
   "attachments": {},
   "cell_type": "markdown",
   "metadata": {},
   "source": [
    "# Day 1 - Introduction to Python\n",
    "\n",
    "``````{admonition} Day 1 Overview\n",
    ":class: day-overview\n",
    "\n",
    "In this session, we'll learn about the Python programming language. \n",
    "We'll see how we can use an interface in our web browser called the **Jupyter Notebook** to write and run Python code.\n",
    "We'll also see how we can use Python to look for information in many text files at once.\n",
    "\n",
    "At the end of this session, you should be able to answer the following questions:\n",
    "\n",
    "```{admonition} Introduction to Python\n",
    ":class: overview\n",
    "\n",
    "* What is the Python programming language, and what is it used for?\n",
    "\n",
    "* What is the syntax of the Python programming language?\n",
    "```\n",
    "```{admonition} File Parsing\n",
    ":class: overview\n",
    "* How can I use Python to read text files?\n",
    "\n",
    "* How do I sort through all the information in a text file and extract particular pieces of information?\n",
    "```\n",
    "\n",
    "```{admonition} Processing Multiple Files\n",
    ":class: overview\n",
    "\n",
    "* How can I use Python to analyze several text files at once?\n",
    "\n",
    "* How can I write files?\n",
    "```\n",
    "``````"
   ]
  },
  {
   "cell_type": "markdown",
   "metadata": {},
   "source": []
  }
 ],
 "metadata": {
  "kernelspec": {
   "display_name": "Python 3",
   "language": "python",
   "name": "python3"
  },
  "language_info": {
   "name": "python",
   "version": "3.8.10 (default, Nov 14 2022, 12:59:47) \n[GCC 9.4.0]"
  },
  "orig_nbformat": 4,
  "vscode": {
   "interpreter": {
    "hash": "916dbcbb3f70747c44a77c7bcd40155683ae19c65e1c03b4aa3499c5328201f1"
   }
  }
 },
 "nbformat": 4,
 "nbformat_minor": 2
}
