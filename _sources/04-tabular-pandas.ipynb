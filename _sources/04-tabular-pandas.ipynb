{
 "cells": [
  {
   "attachments": {},
   "cell_type": "markdown",
   "metadata": {},
   "source": [
    "# Analyzing Tabular Data\n",
    "\n",
    "```{admonition} Overview\n",
    ":class: overview\n",
    "\n",
    "Questions:\n",
    "\n",
    "* How do I work with data presented in tables?\n",
    "\n",
    "Objectives:\n",
    "\n",
    "* Use functions in `pandas` to read in tabular data.\n",
    "\n",
    "* Access information in a data frame using column names and row numbers.\n",
    "\n",
    "```\n",
    "\n",
    "Most scientists work with a lot of numerical data. In this module we will focus on reading in and analyzing numerical data, visualizing the data, and working with arrays.\n",
    "\n",
    "## Reading in Tabular Data\n",
    "\n",
    "As we already discussed, there are many ways to read in data from files in Python. \n",
    "In our last module, we used the readlines() function to read in a complex output file. \n",
    "In theory, you could always use the readlines() function, and then use the data parsing tools we learned in the previous module to format the data as you needed. \n",
    "But sometimes there are other ways that make more sense, particularly if the data is formatted in a table. \n",
    "\n",
    "A common table format is the `CSV` file or `comma separated values`.\n",
    "This is exactly what it sounds like. \n",
    "Data is presented in rows, with each value separated by a comma. \n",
    "If you have data in a spreadsheet program that you need to import into a python code, you can save the data as a csvfile to read it in.\n",
    "\n",
    "In this example, we have a CSV file that contains data from a molecular dynamics trajectory. \n",
    "We have a 20 ns simulation that used a 2 fs timestep. \n",
    "The data was saved to the trajectory file every 1000 steps, so our file has 10,000 timesteps. \n",
    "At each timestep, we are interested in the distance between particular atoms. \n",
    "These trajectories were generated with the AMBER molecular dynamics program and the distances were measured with the python program MDAnalysis. \n",
    "The table of atomic distances was saved as a CSV file called “distance_data_headers.csv”. \n",
    "This file was downloaded as part of your lesson materials. \n",
    "Open the file in a text editor and study it to determine its structure.\n",
    "\n",
    "In analyzing tabular data, we often need to perform the same types of calculations (averaging, calculating the minimum or maximum of the data set), so we are once again going to use a Python library, this time a library that contains lots of functions to work with tables.\n",
    "\n",
    "This library is called `pandas`. When it is imported, it is usually shortened to `pd`."
   ]
  },
  {
   "cell_type": "code",
   "execution_count": 2,
   "metadata": {},
   "outputs": [],
   "source": [
    "import pandas as pd"
   ]
  },
  {
   "attachments": {},
   "cell_type": "markdown",
   "metadata": {},
   "source": [
    "The function we will use is called `read_csv`. \n",
    "You can read more about this function in your Jupyter notebook by using\n",
    "\n",
    "```python\n",
    "help(pd.read_csv)\n",
    "```\n",
    "\n",
    "```{admonition} Library Documentation\n",
    ":class: tip\n",
    "\n",
    "Most popular Python libraries have very good online documentation. \n",
    "You can find the pandas documentation by googling \"pandas docs\".\n",
    "You will be able to find the same help message you get for `read_csv` as well as tutorials and other types of documentation.\n",
    "\n",
    "1. [Pandas Documentation](https://pandas.pydata.org/docs/)\n",
    "2. [`read_csv` documentation](https://pandas.pydata.org/docs/reference/api/pandas.read_csv.html)\n",
    "```\n",
    "\n",
    "To get started, we will make a variable for our file path, then use that variable in the `read_csv` function."
   ]
  },
  {
   "cell_type": "code",
   "execution_count": 3,
   "metadata": {},
   "outputs": [],
   "source": [
    "distance_file = \"data/distance_data_headers.csv\"\n",
    "\n",
    "distances = pd.read_csv(distance_file)"
   ]
  },
  {
   "attachments": {},
   "cell_type": "markdown",
   "metadata": {},
   "source": [
    "The variable called `distances` is a `pandas dataframe`. \n",
    "When we want to look at a dataframe, we should not print it. \n",
    "We should instead put it as the last thing in a cell.\n",
    "This is because pandas dataframes are rendered in a special way in the Jupyter notebook.\n",
    "If you use the `print` function with them, they will not look as nice."
   ]
  },
  {
   "cell_type": "code",
   "execution_count": 4,
   "metadata": {},
   "outputs": [
    {
     "data": {
      "text/html": [
       "<div>\n",
       "<style scoped>\n",
       "    .dataframe tbody tr th:only-of-type {\n",
       "        vertical-align: middle;\n",
       "    }\n",
       "\n",
       "    .dataframe tbody tr th {\n",
       "        vertical-align: top;\n",
       "    }\n",
       "\n",
       "    .dataframe thead th {\n",
       "        text-align: right;\n",
       "    }\n",
       "</style>\n",
       "<table border=\"1\" class=\"dataframe\">\n",
       "  <thead>\n",
       "    <tr style=\"text-align: right;\">\n",
       "      <th></th>\n",
       "      <th>Frame</th>\n",
       "      <th>THR4_ATP</th>\n",
       "      <th>THR4_ASP</th>\n",
       "      <th>TYR6_ATP</th>\n",
       "      <th>TYR6_ASP</th>\n",
       "    </tr>\n",
       "  </thead>\n",
       "  <tbody>\n",
       "    <tr>\n",
       "      <th>0</th>\n",
       "      <td>1</td>\n",
       "      <td>8.9542</td>\n",
       "      <td>5.8024</td>\n",
       "      <td>11.5478</td>\n",
       "      <td>9.9557</td>\n",
       "    </tr>\n",
       "    <tr>\n",
       "      <th>1</th>\n",
       "      <td>2</td>\n",
       "      <td>8.6181</td>\n",
       "      <td>6.0942</td>\n",
       "      <td>13.9594</td>\n",
       "      <td>11.6945</td>\n",
       "    </tr>\n",
       "    <tr>\n",
       "      <th>2</th>\n",
       "      <td>3</td>\n",
       "      <td>9.0066</td>\n",
       "      <td>6.0637</td>\n",
       "      <td>13.0924</td>\n",
       "      <td>11.3043</td>\n",
       "    </tr>\n",
       "    <tr>\n",
       "      <th>3</th>\n",
       "      <td>4</td>\n",
       "      <td>9.2002</td>\n",
       "      <td>6.0227</td>\n",
       "      <td>14.5282</td>\n",
       "      <td>10.1763</td>\n",
       "    </tr>\n",
       "    <tr>\n",
       "      <th>4</th>\n",
       "      <td>5</td>\n",
       "      <td>9.1294</td>\n",
       "      <td>5.9365</td>\n",
       "      <td>13.5321</td>\n",
       "      <td>10.6279</td>\n",
       "    </tr>\n",
       "    <tr>\n",
       "      <th>...</th>\n",
       "      <td>...</td>\n",
       "      <td>...</td>\n",
       "      <td>...</td>\n",
       "      <td>...</td>\n",
       "      <td>...</td>\n",
       "    </tr>\n",
       "    <tr>\n",
       "      <th>9995</th>\n",
       "      <td>9996</td>\n",
       "      <td>8.5083</td>\n",
       "      <td>7.7587</td>\n",
       "      <td>9.1789</td>\n",
       "      <td>10.6715</td>\n",
       "    </tr>\n",
       "    <tr>\n",
       "      <th>9996</th>\n",
       "      <td>9997</td>\n",
       "      <td>8.9524</td>\n",
       "      <td>7.4681</td>\n",
       "      <td>9.5132</td>\n",
       "      <td>10.9945</td>\n",
       "    </tr>\n",
       "    <tr>\n",
       "      <th>9997</th>\n",
       "      <td>9998</td>\n",
       "      <td>8.6625</td>\n",
       "      <td>7.7306</td>\n",
       "      <td>9.5469</td>\n",
       "      <td>10.3063</td>\n",
       "    </tr>\n",
       "    <tr>\n",
       "      <th>9998</th>\n",
       "      <td>9999</td>\n",
       "      <td>9.2456</td>\n",
       "      <td>7.8886</td>\n",
       "      <td>9.8151</td>\n",
       "      <td>10.7564</td>\n",
       "    </tr>\n",
       "    <tr>\n",
       "      <th>9999</th>\n",
       "      <td>10000</td>\n",
       "      <td>8.8135</td>\n",
       "      <td>7.9170</td>\n",
       "      <td>9.9517</td>\n",
       "      <td>10.7848</td>\n",
       "    </tr>\n",
       "  </tbody>\n",
       "</table>\n",
       "<p>10000 rows × 5 columns</p>\n",
       "</div>"
      ],
      "text/plain": [
       "      Frame  THR4_ATP  THR4_ASP  TYR6_ATP  TYR6_ASP\n",
       "0         1    8.9542    5.8024   11.5478    9.9557\n",
       "1         2    8.6181    6.0942   13.9594   11.6945\n",
       "2         3    9.0066    6.0637   13.0924   11.3043\n",
       "3         4    9.2002    6.0227   14.5282   10.1763\n",
       "4         5    9.1294    5.9365   13.5321   10.6279\n",
       "...     ...       ...       ...       ...       ...\n",
       "9995   9996    8.5083    7.7587    9.1789   10.6715\n",
       "9996   9997    8.9524    7.4681    9.5132   10.9945\n",
       "9997   9998    8.6625    7.7306    9.5469   10.3063\n",
       "9998   9999    9.2456    7.8886    9.8151   10.7564\n",
       "9999  10000    8.8135    7.9170    9.9517   10.7848\n",
       "\n",
       "[10000 rows x 5 columns]"
      ]
     },
     "execution_count": 4,
     "metadata": {},
     "output_type": "execute_result"
    }
   ],
   "source": [
    "distances"
   ]
  },
  {
   "attachments": {},
   "cell_type": "markdown",
   "metadata": {},
   "source": [
    "This output gives us some information about what is in the dataframe.\n",
    "You can see that pandas made the first row in the file into headers.\n",
    "It also tells us that we have a table with 10,000 rows and 5 columns."
   ]
  },
  {
   "attachments": {},
   "cell_type": "markdown",
   "metadata": {},
   "source": [
    "## Accessing Data in the Data Frame\n",
    "\n",
    "One way to get information in a data frame is by using the headers, or the column names using squre brackets.\n",
    "The synatx for this is\n",
    "\n",
    "```python\n",
    "\n",
    "dataframe[\"column_name\"]\n",
    "```\n",
    "\n",
    "For example, to get the column \"THR4_ATP\", we put the name in square brackets."
   ]
  },
  {
   "cell_type": "code",
   "execution_count": 5,
   "metadata": {},
   "outputs": [
    {
     "data": {
      "text/plain": [
       "0       8.9542\n",
       "1       8.6181\n",
       "2       9.0066\n",
       "3       9.2002\n",
       "4       9.1294\n",
       "         ...  \n",
       "9995    8.5083\n",
       "9996    8.9524\n",
       "9997    8.6625\n",
       "9998    9.2456\n",
       "9999    8.8135\n",
       "Name: THR4_ATP, Length: 10000, dtype: float64"
      ]
     },
     "execution_count": 5,
     "metadata": {},
     "output_type": "execute_result"
    }
   ],
   "source": [
    "distances[\"THR4_ATP\"]"
   ]
  },
  {
   "attachments": {},
   "cell_type": "markdown",
   "metadata": {},
   "source": [
    "If you want multiple columns, you use a list of column names in square brackets."
   ]
  },
  {
   "cell_type": "code",
   "execution_count": 6,
   "metadata": {},
   "outputs": [
    {
     "data": {
      "text/html": [
       "<div>\n",
       "<style scoped>\n",
       "    .dataframe tbody tr th:only-of-type {\n",
       "        vertical-align: middle;\n",
       "    }\n",
       "\n",
       "    .dataframe tbody tr th {\n",
       "        vertical-align: top;\n",
       "    }\n",
       "\n",
       "    .dataframe thead th {\n",
       "        text-align: right;\n",
       "    }\n",
       "</style>\n",
       "<table border=\"1\" class=\"dataframe\">\n",
       "  <thead>\n",
       "    <tr style=\"text-align: right;\">\n",
       "      <th></th>\n",
       "      <th>THR4_ATP</th>\n",
       "      <th>TYR6_ATP</th>\n",
       "    </tr>\n",
       "  </thead>\n",
       "  <tbody>\n",
       "    <tr>\n",
       "      <th>0</th>\n",
       "      <td>8.9542</td>\n",
       "      <td>11.5478</td>\n",
       "    </tr>\n",
       "    <tr>\n",
       "      <th>1</th>\n",
       "      <td>8.6181</td>\n",
       "      <td>13.9594</td>\n",
       "    </tr>\n",
       "    <tr>\n",
       "      <th>2</th>\n",
       "      <td>9.0066</td>\n",
       "      <td>13.0924</td>\n",
       "    </tr>\n",
       "    <tr>\n",
       "      <th>3</th>\n",
       "      <td>9.2002</td>\n",
       "      <td>14.5282</td>\n",
       "    </tr>\n",
       "    <tr>\n",
       "      <th>4</th>\n",
       "      <td>9.1294</td>\n",
       "      <td>13.5321</td>\n",
       "    </tr>\n",
       "    <tr>\n",
       "      <th>...</th>\n",
       "      <td>...</td>\n",
       "      <td>...</td>\n",
       "    </tr>\n",
       "    <tr>\n",
       "      <th>9995</th>\n",
       "      <td>8.5083</td>\n",
       "      <td>9.1789</td>\n",
       "    </tr>\n",
       "    <tr>\n",
       "      <th>9996</th>\n",
       "      <td>8.9524</td>\n",
       "      <td>9.5132</td>\n",
       "    </tr>\n",
       "    <tr>\n",
       "      <th>9997</th>\n",
       "      <td>8.6625</td>\n",
       "      <td>9.5469</td>\n",
       "    </tr>\n",
       "    <tr>\n",
       "      <th>9998</th>\n",
       "      <td>9.2456</td>\n",
       "      <td>9.8151</td>\n",
       "    </tr>\n",
       "    <tr>\n",
       "      <th>9999</th>\n",
       "      <td>8.8135</td>\n",
       "      <td>9.9517</td>\n",
       "    </tr>\n",
       "  </tbody>\n",
       "</table>\n",
       "<p>10000 rows × 2 columns</p>\n",
       "</div>"
      ],
      "text/plain": [
       "      THR4_ATP  TYR6_ATP\n",
       "0       8.9542   11.5478\n",
       "1       8.6181   13.9594\n",
       "2       9.0066   13.0924\n",
       "3       9.2002   14.5282\n",
       "4       9.1294   13.5321\n",
       "...        ...       ...\n",
       "9995    8.5083    9.1789\n",
       "9996    8.9524    9.5132\n",
       "9997    8.6625    9.5469\n",
       "9998    9.2456    9.8151\n",
       "9999    8.8135    9.9517\n",
       "\n",
       "[10000 rows x 2 columns]"
      ]
     },
     "execution_count": 6,
     "metadata": {},
     "output_type": "execute_result"
    }
   ],
   "source": [
    "distances[[\"THR4_ATP\", \"TYR6_ATP\"]]"
   ]
  },
  {
   "attachments": {},
   "cell_type": "markdown",
   "metadata": {},
   "source": [
    "If we want to get information in the dataframe using row and column numbers, we use the `iloc` function.\n",
    "\n",
    "The syntax for `iloc` is\n",
    "\n",
    "```python\n",
    "dataframe.iloc[row_number, column_number]\n",
    "```\n",
    "\n",
    "If you specify only a row number, you will get all the columns."
   ]
  },
  {
   "cell_type": "code",
   "execution_count": 7,
   "metadata": {},
   "outputs": [
    {
     "data": {
      "text/plain": [
       "Frame        1.0000\n",
       "THR4_ATP     8.9542\n",
       "THR4_ASP     5.8024\n",
       "TYR6_ATP    11.5478\n",
       "TYR6_ASP     9.9557\n",
       "Name: 0, dtype: float64"
      ]
     },
     "execution_count": 7,
     "metadata": {},
     "output_type": "execute_result"
    }
   ],
   "source": [
    "# This will get the first row, all of the columns.\n",
    "distances.iloc[0]"
   ]
  },
  {
   "cell_type": "code",
   "execution_count": 8,
   "metadata": {},
   "outputs": [
    {
     "data": {
      "text/plain": [
       "8.9542"
      ]
     },
     "execution_count": 8,
     "metadata": {},
     "output_type": "execute_result"
    }
   ],
   "source": [
    "# This will get the first row and the second column.\n",
    "distances.iloc[0, 1]"
   ]
  },
  {
   "attachments": {},
   "cell_type": "markdown",
   "metadata": {},
   "source": [
    "``````{admonition} Check Your Understanding\n",
    ":class: exercise\n",
    "\n",
    "How would you get the `THR4_ASP` column?\n",
    "\n",
    "How would you get the value in row index 10 of the `THR4_ASP` column?\n",
    "\n",
    "````{admonition} Solution\n",
    ":class: solution dropdown\n",
    "\n",
    "```python\n",
    "# Get the THR4_ASP column\n",
    "distances[\"THR4_ASP\"]\n",
    "\n",
    "# Get row 1o of the THR4_ASP column.\n",
    "distances[\"THR4_ASP\"].iloc[10]\n",
    "\n",
    "```\n",
    "````\n",
    "``````"
   ]
  },
  {
   "attachments": {},
   "cell_type": "markdown",
   "metadata": {},
   "source": [
    "### Slicing\n",
    "\n",
    "Similar to lists, you can slice pandas dataframes when you use `iloc`. \n",
    "This allows you to get a range of rows or columns. \n",
    "To take a slice, you use a colon:\n",
    "\n",
    "```python\n",
    "\n",
    "dataframe.iloc[row_start:row_end, column_start:column_end]\n",
    "```"
   ]
  },
  {
   "cell_type": "code",
   "execution_count": 9,
   "metadata": {},
   "outputs": [
    {
     "data": {
      "text/html": [
       "<div>\n",
       "<style scoped>\n",
       "    .dataframe tbody tr th:only-of-type {\n",
       "        vertical-align: middle;\n",
       "    }\n",
       "\n",
       "    .dataframe tbody tr th {\n",
       "        vertical-align: top;\n",
       "    }\n",
       "\n",
       "    .dataframe thead th {\n",
       "        text-align: right;\n",
       "    }\n",
       "</style>\n",
       "<table border=\"1\" class=\"dataframe\">\n",
       "  <thead>\n",
       "    <tr style=\"text-align: right;\">\n",
       "      <th></th>\n",
       "      <th>Frame</th>\n",
       "      <th>THR4_ATP</th>\n",
       "    </tr>\n",
       "  </thead>\n",
       "  <tbody>\n",
       "    <tr>\n",
       "      <th>0</th>\n",
       "      <td>1</td>\n",
       "      <td>8.9542</td>\n",
       "    </tr>\n",
       "    <tr>\n",
       "      <th>1</th>\n",
       "      <td>2</td>\n",
       "      <td>8.6181</td>\n",
       "    </tr>\n",
       "    <tr>\n",
       "      <th>2</th>\n",
       "      <td>3</td>\n",
       "      <td>9.0066</td>\n",
       "    </tr>\n",
       "    <tr>\n",
       "      <th>3</th>\n",
       "      <td>4</td>\n",
       "      <td>9.2002</td>\n",
       "    </tr>\n",
       "    <tr>\n",
       "      <th>4</th>\n",
       "      <td>5</td>\n",
       "      <td>9.1294</td>\n",
       "    </tr>\n",
       "    <tr>\n",
       "      <th>5</th>\n",
       "      <td>6</td>\n",
       "      <td>9.0462</td>\n",
       "    </tr>\n",
       "    <tr>\n",
       "      <th>6</th>\n",
       "      <td>7</td>\n",
       "      <td>8.8657</td>\n",
       "    </tr>\n",
       "    <tr>\n",
       "      <th>7</th>\n",
       "      <td>8</td>\n",
       "      <td>9.3256</td>\n",
       "    </tr>\n",
       "    <tr>\n",
       "      <th>8</th>\n",
       "      <td>9</td>\n",
       "      <td>9.4184</td>\n",
       "    </tr>\n",
       "    <tr>\n",
       "      <th>9</th>\n",
       "      <td>10</td>\n",
       "      <td>9.0600</td>\n",
       "    </tr>\n",
       "  </tbody>\n",
       "</table>\n",
       "</div>"
      ],
      "text/plain": [
       "   Frame  THR4_ATP\n",
       "0      1    8.9542\n",
       "1      2    8.6181\n",
       "2      3    9.0066\n",
       "3      4    9.2002\n",
       "4      5    9.1294\n",
       "5      6    9.0462\n",
       "6      7    8.8657\n",
       "7      8    9.3256\n",
       "8      9    9.4184\n",
       "9     10    9.0600"
      ]
     },
     "execution_count": 9,
     "metadata": {},
     "output_type": "execute_result"
    }
   ],
   "source": [
    "distances.iloc[0:10, :2]"
   ]
  },
  {
   "attachments": {},
   "cell_type": "markdown",
   "metadata": {},
   "source": [
    "## Analyzing Tabular Data\n",
    "\n",
    "A pandas dataframe has a number of functions built in that you can use to analyze your data.\n",
    "\n",
    "The first we will look at is the `mean` function. If we do `dataframe.mean()`, we will get the average value of each column."
   ]
  },
  {
   "cell_type": "code",
   "execution_count": 10,
   "metadata": {},
   "outputs": [
    {
     "data": {
      "text/plain": [
       "Frame       5000.500000\n",
       "THR4_ATP      10.876951\n",
       "THR4_ASP       7.342345\n",
       "TYR6_ATP      11.209791\n",
       "TYR6_ASP      10.993443\n",
       "dtype: float64"
      ]
     },
     "execution_count": 10,
     "metadata": {},
     "output_type": "execute_result"
    }
   ],
   "source": [
    "distances.mean()"
   ]
  },
  {
   "attachments": {},
   "cell_type": "markdown",
   "metadata": {},
   "source": [
    "Similarly, we can get the standard deviation of each column by using the `std` function."
   ]
  },
  {
   "cell_type": "code",
   "execution_count": 11,
   "metadata": {},
   "outputs": [
    {
     "data": {
      "text/plain": [
       "Frame       2886.895680\n",
       "THR4_ATP       2.676669\n",
       "THR4_ASP       0.995629\n",
       "TYR6_ATP       2.367468\n",
       "TYR6_ASP       1.058657\n",
       "dtype: float64"
      ]
     },
     "execution_count": 11,
     "metadata": {},
     "output_type": "execute_result"
    }
   ],
   "source": [
    "distances.std()"
   ]
  },
  {
   "attachments": {},
   "cell_type": "markdown",
   "metadata": {},
   "source": [
    "You can quickly get all descriptive statistics of all of the columns by using `.describe`."
   ]
  },
  {
   "cell_type": "code",
   "execution_count": 12,
   "metadata": {},
   "outputs": [
    {
     "data": {
      "text/html": [
       "<div>\n",
       "<style scoped>\n",
       "    .dataframe tbody tr th:only-of-type {\n",
       "        vertical-align: middle;\n",
       "    }\n",
       "\n",
       "    .dataframe tbody tr th {\n",
       "        vertical-align: top;\n",
       "    }\n",
       "\n",
       "    .dataframe thead th {\n",
       "        text-align: right;\n",
       "    }\n",
       "</style>\n",
       "<table border=\"1\" class=\"dataframe\">\n",
       "  <thead>\n",
       "    <tr style=\"text-align: right;\">\n",
       "      <th></th>\n",
       "      <th>Frame</th>\n",
       "      <th>THR4_ATP</th>\n",
       "      <th>THR4_ASP</th>\n",
       "      <th>TYR6_ATP</th>\n",
       "      <th>TYR6_ASP</th>\n",
       "    </tr>\n",
       "  </thead>\n",
       "  <tbody>\n",
       "    <tr>\n",
       "      <th>count</th>\n",
       "      <td>10000.00000</td>\n",
       "      <td>10000.000000</td>\n",
       "      <td>10000.000000</td>\n",
       "      <td>10000.000000</td>\n",
       "      <td>10000.000000</td>\n",
       "    </tr>\n",
       "    <tr>\n",
       "      <th>mean</th>\n",
       "      <td>5000.50000</td>\n",
       "      <td>10.876951</td>\n",
       "      <td>7.342345</td>\n",
       "      <td>11.209791</td>\n",
       "      <td>10.993443</td>\n",
       "    </tr>\n",
       "    <tr>\n",
       "      <th>std</th>\n",
       "      <td>2886.89568</td>\n",
       "      <td>2.676669</td>\n",
       "      <td>0.995629</td>\n",
       "      <td>2.367468</td>\n",
       "      <td>1.058657</td>\n",
       "    </tr>\n",
       "    <tr>\n",
       "      <th>min</th>\n",
       "      <td>1.00000</td>\n",
       "      <td>5.741600</td>\n",
       "      <td>3.606100</td>\n",
       "      <td>5.707900</td>\n",
       "      <td>7.855700</td>\n",
       "    </tr>\n",
       "    <tr>\n",
       "      <th>25%</th>\n",
       "      <td>2500.75000</td>\n",
       "      <td>8.740850</td>\n",
       "      <td>6.739650</td>\n",
       "      <td>9.560125</td>\n",
       "      <td>10.299925</td>\n",
       "    </tr>\n",
       "    <tr>\n",
       "      <th>50%</th>\n",
       "      <td>5000.50000</td>\n",
       "      <td>10.775950</td>\n",
       "      <td>7.410700</td>\n",
       "      <td>10.894250</td>\n",
       "      <td>10.880550</td>\n",
       "    </tr>\n",
       "    <tr>\n",
       "      <th>75%</th>\n",
       "      <td>7500.25000</td>\n",
       "      <td>12.892300</td>\n",
       "      <td>7.976450</td>\n",
       "      <td>12.921500</td>\n",
       "      <td>11.574075</td>\n",
       "    </tr>\n",
       "    <tr>\n",
       "      <th>max</th>\n",
       "      <td>10000.00000</td>\n",
       "      <td>19.480000</td>\n",
       "      <td>10.816900</td>\n",
       "      <td>18.932300</td>\n",
       "      <td>15.006500</td>\n",
       "    </tr>\n",
       "  </tbody>\n",
       "</table>\n",
       "</div>"
      ],
      "text/plain": [
       "             Frame      THR4_ATP      THR4_ASP      TYR6_ATP      TYR6_ASP\n",
       "count  10000.00000  10000.000000  10000.000000  10000.000000  10000.000000\n",
       "mean    5000.50000     10.876951      7.342345     11.209791     10.993443\n",
       "std     2886.89568      2.676669      0.995629      2.367468      1.058657\n",
       "min        1.00000      5.741600      3.606100      5.707900      7.855700\n",
       "25%     2500.75000      8.740850      6.739650      9.560125     10.299925\n",
       "50%     5000.50000     10.775950      7.410700     10.894250     10.880550\n",
       "75%     7500.25000     12.892300      7.976450     12.921500     11.574075\n",
       "max    10000.00000     19.480000     10.816900     18.932300     15.006500"
      ]
     },
     "execution_count": 12,
     "metadata": {},
     "output_type": "execute_result"
    }
   ],
   "source": [
    "distances.describe()"
   ]
  },
  {
   "attachments": {},
   "cell_type": "markdown",
   "metadata": {},
   "source": [
    "The output of these functions is a pandas dataframe, so we can save our results in a variable and access it the same we we did with our other dataframe."
   ]
  },
  {
   "cell_type": "code",
   "execution_count": 13,
   "metadata": {},
   "outputs": [],
   "source": [
    "statistics = distances.describe()"
   ]
  },
  {
   "cell_type": "code",
   "execution_count": 14,
   "metadata": {},
   "outputs": [
    {
     "data": {
      "text/html": [
       "<div>\n",
       "<style scoped>\n",
       "    .dataframe tbody tr th:only-of-type {\n",
       "        vertical-align: middle;\n",
       "    }\n",
       "\n",
       "    .dataframe tbody tr th {\n",
       "        vertical-align: top;\n",
       "    }\n",
       "\n",
       "    .dataframe thead th {\n",
       "        text-align: right;\n",
       "    }\n",
       "</style>\n",
       "<table border=\"1\" class=\"dataframe\">\n",
       "  <thead>\n",
       "    <tr style=\"text-align: right;\">\n",
       "      <th></th>\n",
       "      <th>Frame</th>\n",
       "      <th>THR4_ATP</th>\n",
       "      <th>THR4_ASP</th>\n",
       "      <th>TYR6_ATP</th>\n",
       "      <th>TYR6_ASP</th>\n",
       "    </tr>\n",
       "  </thead>\n",
       "  <tbody>\n",
       "    <tr>\n",
       "      <th>count</th>\n",
       "      <td>10000.00000</td>\n",
       "      <td>10000.000000</td>\n",
       "      <td>10000.000000</td>\n",
       "      <td>10000.000000</td>\n",
       "      <td>10000.000000</td>\n",
       "    </tr>\n",
       "    <tr>\n",
       "      <th>mean</th>\n",
       "      <td>5000.50000</td>\n",
       "      <td>10.876951</td>\n",
       "      <td>7.342345</td>\n",
       "      <td>11.209791</td>\n",
       "      <td>10.993443</td>\n",
       "    </tr>\n",
       "    <tr>\n",
       "      <th>std</th>\n",
       "      <td>2886.89568</td>\n",
       "      <td>2.676669</td>\n",
       "      <td>0.995629</td>\n",
       "      <td>2.367468</td>\n",
       "      <td>1.058657</td>\n",
       "    </tr>\n",
       "    <tr>\n",
       "      <th>min</th>\n",
       "      <td>1.00000</td>\n",
       "      <td>5.741600</td>\n",
       "      <td>3.606100</td>\n",
       "      <td>5.707900</td>\n",
       "      <td>7.855700</td>\n",
       "    </tr>\n",
       "    <tr>\n",
       "      <th>25%</th>\n",
       "      <td>2500.75000</td>\n",
       "      <td>8.740850</td>\n",
       "      <td>6.739650</td>\n",
       "      <td>9.560125</td>\n",
       "      <td>10.299925</td>\n",
       "    </tr>\n",
       "    <tr>\n",
       "      <th>50%</th>\n",
       "      <td>5000.50000</td>\n",
       "      <td>10.775950</td>\n",
       "      <td>7.410700</td>\n",
       "      <td>10.894250</td>\n",
       "      <td>10.880550</td>\n",
       "    </tr>\n",
       "    <tr>\n",
       "      <th>75%</th>\n",
       "      <td>7500.25000</td>\n",
       "      <td>12.892300</td>\n",
       "      <td>7.976450</td>\n",
       "      <td>12.921500</td>\n",
       "      <td>11.574075</td>\n",
       "    </tr>\n",
       "    <tr>\n",
       "      <th>max</th>\n",
       "      <td>10000.00000</td>\n",
       "      <td>19.480000</td>\n",
       "      <td>10.816900</td>\n",
       "      <td>18.932300</td>\n",
       "      <td>15.006500</td>\n",
       "    </tr>\n",
       "  </tbody>\n",
       "</table>\n",
       "</div>"
      ],
      "text/plain": [
       "             Frame      THR4_ATP      THR4_ASP      TYR6_ATP      TYR6_ASP\n",
       "count  10000.00000  10000.000000  10000.000000  10000.000000  10000.000000\n",
       "mean    5000.50000     10.876951      7.342345     11.209791     10.993443\n",
       "std     2886.89568      2.676669      0.995629      2.367468      1.058657\n",
       "min        1.00000      5.741600      3.606100      5.707900      7.855700\n",
       "25%     2500.75000      8.740850      6.739650      9.560125     10.299925\n",
       "50%     5000.50000     10.775950      7.410700     10.894250     10.880550\n",
       "75%     7500.25000     12.892300      7.976450     12.921500     11.574075\n",
       "max    10000.00000     19.480000     10.816900     18.932300     15.006500"
      ]
     },
     "execution_count": 14,
     "metadata": {},
     "output_type": "execute_result"
    }
   ],
   "source": [
    "statistics"
   ]
  },
  {
   "cell_type": "code",
   "execution_count": 15,
   "metadata": {},
   "outputs": [
    {
     "data": {
      "text/plain": [
       "count    10000.000000\n",
       "mean        10.876951\n",
       "std          2.676669\n",
       "min          5.741600\n",
       "25%          8.740850\n",
       "50%         10.775950\n",
       "75%         12.892300\n",
       "max         19.480000\n",
       "Name: THR4_ATP, dtype: float64"
      ]
     },
     "execution_count": 15,
     "metadata": {},
     "output_type": "execute_result"
    }
   ],
   "source": [
    "# Get the THR4_ATP column\n",
    "statistics[\"THR4_ATP\"]"
   ]
  },
  {
   "attachments": {},
   "cell_type": "markdown",
   "metadata": {},
   "source": [
    "## Writing Files using Pandas\n",
    "\n",
    "Pandas has built-in functions to write our data to files. \n",
    "We can save our results to a new CSV file using the function `to_csv`."
   ]
  },
  {
   "cell_type": "code",
   "execution_count": 16,
   "metadata": {},
   "outputs": [],
   "source": [
    "# save a file called \"analysis.csv\"\n",
    "statistics.to_csv(\"analysis.csv\")"
   ]
  },
  {
   "attachments": {},
   "cell_type": "markdown",
   "metadata": {},
   "source": [
    "## Mathematical Operations and Filtering\n",
    "\n",
    "Pandas dataframes will often allow you to avoid using `for` loops.\n",
    "For example, if we wanted to multiply a column by 10, we could do"
   ]
  },
  {
   "cell_type": "code",
   "execution_count": 17,
   "metadata": {},
   "outputs": [
    {
     "data": {
      "text/plain": [
       "0       58.024\n",
       "1       60.942\n",
       "2       60.637\n",
       "3       60.227\n",
       "4       59.365\n",
       "         ...  \n",
       "9995    77.587\n",
       "9996    74.681\n",
       "9997    77.306\n",
       "9998    78.886\n",
       "9999    79.170\n",
       "Name: THR4_ASP, Length: 10000, dtype: float64"
      ]
     },
     "execution_count": 17,
     "metadata": {},
     "output_type": "execute_result"
    }
   ],
   "source": [
    "distances[\"THR4_ASP\"] * 10"
   ]
  },
  {
   "attachments": {},
   "cell_type": "markdown",
   "metadata": {},
   "source": [
    "This would also work for adding, subtracting, or multiplying. \n",
    "We can also easily save our calculated value as a new column. The syntax for this is\n",
    "\n",
    "```python\n",
    "dataframe[\"new_column_name\"] = calculation\n",
    "```\n",
    "\n",
    "Imagine we wanted to convert our distances to nanometers, we could do"
   ]
  },
  {
   "cell_type": "code",
   "execution_count": 18,
   "metadata": {},
   "outputs": [
    {
     "data": {
      "text/html": [
       "<div>\n",
       "<style scoped>\n",
       "    .dataframe tbody tr th:only-of-type {\n",
       "        vertical-align: middle;\n",
       "    }\n",
       "\n",
       "    .dataframe tbody tr th {\n",
       "        vertical-align: top;\n",
       "    }\n",
       "\n",
       "    .dataframe thead th {\n",
       "        text-align: right;\n",
       "    }\n",
       "</style>\n",
       "<table border=\"1\" class=\"dataframe\">\n",
       "  <thead>\n",
       "    <tr style=\"text-align: right;\">\n",
       "      <th></th>\n",
       "      <th>Frame</th>\n",
       "      <th>THR4_ATP</th>\n",
       "      <th>THR4_ASP</th>\n",
       "      <th>TYR6_ATP</th>\n",
       "      <th>TYR6_ASP</th>\n",
       "      <th>THR4_ASP(nm)</th>\n",
       "    </tr>\n",
       "  </thead>\n",
       "  <tbody>\n",
       "    <tr>\n",
       "      <th>0</th>\n",
       "      <td>1</td>\n",
       "      <td>8.9542</td>\n",
       "      <td>5.8024</td>\n",
       "      <td>11.5478</td>\n",
       "      <td>9.9557</td>\n",
       "      <td>0.58024</td>\n",
       "    </tr>\n",
       "    <tr>\n",
       "      <th>1</th>\n",
       "      <td>2</td>\n",
       "      <td>8.6181</td>\n",
       "      <td>6.0942</td>\n",
       "      <td>13.9594</td>\n",
       "      <td>11.6945</td>\n",
       "      <td>0.60942</td>\n",
       "    </tr>\n",
       "    <tr>\n",
       "      <th>2</th>\n",
       "      <td>3</td>\n",
       "      <td>9.0066</td>\n",
       "      <td>6.0637</td>\n",
       "      <td>13.0924</td>\n",
       "      <td>11.3043</td>\n",
       "      <td>0.60637</td>\n",
       "    </tr>\n",
       "    <tr>\n",
       "      <th>3</th>\n",
       "      <td>4</td>\n",
       "      <td>9.2002</td>\n",
       "      <td>6.0227</td>\n",
       "      <td>14.5282</td>\n",
       "      <td>10.1763</td>\n",
       "      <td>0.60227</td>\n",
       "    </tr>\n",
       "    <tr>\n",
       "      <th>4</th>\n",
       "      <td>5</td>\n",
       "      <td>9.1294</td>\n",
       "      <td>5.9365</td>\n",
       "      <td>13.5321</td>\n",
       "      <td>10.6279</td>\n",
       "      <td>0.59365</td>\n",
       "    </tr>\n",
       "    <tr>\n",
       "      <th>...</th>\n",
       "      <td>...</td>\n",
       "      <td>...</td>\n",
       "      <td>...</td>\n",
       "      <td>...</td>\n",
       "      <td>...</td>\n",
       "      <td>...</td>\n",
       "    </tr>\n",
       "    <tr>\n",
       "      <th>9995</th>\n",
       "      <td>9996</td>\n",
       "      <td>8.5083</td>\n",
       "      <td>7.7587</td>\n",
       "      <td>9.1789</td>\n",
       "      <td>10.6715</td>\n",
       "      <td>0.77587</td>\n",
       "    </tr>\n",
       "    <tr>\n",
       "      <th>9996</th>\n",
       "      <td>9997</td>\n",
       "      <td>8.9524</td>\n",
       "      <td>7.4681</td>\n",
       "      <td>9.5132</td>\n",
       "      <td>10.9945</td>\n",
       "      <td>0.74681</td>\n",
       "    </tr>\n",
       "    <tr>\n",
       "      <th>9997</th>\n",
       "      <td>9998</td>\n",
       "      <td>8.6625</td>\n",
       "      <td>7.7306</td>\n",
       "      <td>9.5469</td>\n",
       "      <td>10.3063</td>\n",
       "      <td>0.77306</td>\n",
       "    </tr>\n",
       "    <tr>\n",
       "      <th>9998</th>\n",
       "      <td>9999</td>\n",
       "      <td>9.2456</td>\n",
       "      <td>7.8886</td>\n",
       "      <td>9.8151</td>\n",
       "      <td>10.7564</td>\n",
       "      <td>0.78886</td>\n",
       "    </tr>\n",
       "    <tr>\n",
       "      <th>9999</th>\n",
       "      <td>10000</td>\n",
       "      <td>8.8135</td>\n",
       "      <td>7.9170</td>\n",
       "      <td>9.9517</td>\n",
       "      <td>10.7848</td>\n",
       "      <td>0.79170</td>\n",
       "    </tr>\n",
       "  </tbody>\n",
       "</table>\n",
       "<p>10000 rows × 6 columns</p>\n",
       "</div>"
      ],
      "text/plain": [
       "      Frame  THR4_ATP  THR4_ASP  TYR6_ATP  TYR6_ASP  THR4_ASP(nm)\n",
       "0         1    8.9542    5.8024   11.5478    9.9557       0.58024\n",
       "1         2    8.6181    6.0942   13.9594   11.6945       0.60942\n",
       "2         3    9.0066    6.0637   13.0924   11.3043       0.60637\n",
       "3         4    9.2002    6.0227   14.5282   10.1763       0.60227\n",
       "4         5    9.1294    5.9365   13.5321   10.6279       0.59365\n",
       "...     ...       ...       ...       ...       ...           ...\n",
       "9995   9996    8.5083    7.7587    9.1789   10.6715       0.77587\n",
       "9996   9997    8.9524    7.4681    9.5132   10.9945       0.74681\n",
       "9997   9998    8.6625    7.7306    9.5469   10.3063       0.77306\n",
       "9998   9999    9.2456    7.8886    9.8151   10.7564       0.78886\n",
       "9999  10000    8.8135    7.9170    9.9517   10.7848       0.79170\n",
       "\n",
       "[10000 rows x 6 columns]"
      ]
     },
     "execution_count": 18,
     "metadata": {},
     "output_type": "execute_result"
    }
   ],
   "source": [
    "distances[\"THR4_ASP(nm)\"] = distances[\"THR4_ASP\"] * 0.1\n",
    "distances"
   ]
  },
  {
   "attachments": {},
   "cell_type": "markdown",
   "metadata": {},
   "source": [
    "Instead of writing an `if` statement, we can do"
   ]
  },
  {
   "cell_type": "code",
   "execution_count": 19,
   "metadata": {},
   "outputs": [
    {
     "data": {
      "text/plain": [
       "0       False\n",
       "1       False\n",
       "2        True\n",
       "3        True\n",
       "4        True\n",
       "        ...  \n",
       "9995    False\n",
       "9996    False\n",
       "9997    False\n",
       "9998     True\n",
       "9999    False\n",
       "Name: THR4_ATP, Length: 10000, dtype: bool"
      ]
     },
     "execution_count": 19,
     "metadata": {},
     "output_type": "execute_result"
    }
   ],
   "source": [
    "distances[\"THR4_ATP\"] > 9"
   ]
  },
  {
   "attachments": {},
   "cell_type": "markdown",
   "metadata": {},
   "source": [
    "We can then use that as an index to get the rows where the condition is True"
   ]
  },
  {
   "cell_type": "code",
   "execution_count": 20,
   "metadata": {},
   "outputs": [
    {
     "data": {
      "text/html": [
       "<div>\n",
       "<style scoped>\n",
       "    .dataframe tbody tr th:only-of-type {\n",
       "        vertical-align: middle;\n",
       "    }\n",
       "\n",
       "    .dataframe tbody tr th {\n",
       "        vertical-align: top;\n",
       "    }\n",
       "\n",
       "    .dataframe thead th {\n",
       "        text-align: right;\n",
       "    }\n",
       "</style>\n",
       "<table border=\"1\" class=\"dataframe\">\n",
       "  <thead>\n",
       "    <tr style=\"text-align: right;\">\n",
       "      <th></th>\n",
       "      <th>Frame</th>\n",
       "      <th>THR4_ATP</th>\n",
       "      <th>THR4_ASP</th>\n",
       "      <th>TYR6_ATP</th>\n",
       "      <th>TYR6_ASP</th>\n",
       "      <th>THR4_ASP(nm)</th>\n",
       "    </tr>\n",
       "  </thead>\n",
       "  <tbody>\n",
       "    <tr>\n",
       "      <th>2</th>\n",
       "      <td>3</td>\n",
       "      <td>9.0066</td>\n",
       "      <td>6.0637</td>\n",
       "      <td>13.0924</td>\n",
       "      <td>11.3043</td>\n",
       "      <td>0.60637</td>\n",
       "    </tr>\n",
       "    <tr>\n",
       "      <th>3</th>\n",
       "      <td>4</td>\n",
       "      <td>9.2002</td>\n",
       "      <td>6.0227</td>\n",
       "      <td>14.5282</td>\n",
       "      <td>10.1763</td>\n",
       "      <td>0.60227</td>\n",
       "    </tr>\n",
       "    <tr>\n",
       "      <th>4</th>\n",
       "      <td>5</td>\n",
       "      <td>9.1294</td>\n",
       "      <td>5.9365</td>\n",
       "      <td>13.5321</td>\n",
       "      <td>10.6279</td>\n",
       "      <td>0.59365</td>\n",
       "    </tr>\n",
       "    <tr>\n",
       "      <th>5</th>\n",
       "      <td>6</td>\n",
       "      <td>9.0462</td>\n",
       "      <td>6.2553</td>\n",
       "      <td>13.9060</td>\n",
       "      <td>10.4292</td>\n",
       "      <td>0.62553</td>\n",
       "    </tr>\n",
       "    <tr>\n",
       "      <th>7</th>\n",
       "      <td>8</td>\n",
       "      <td>9.3256</td>\n",
       "      <td>6.2351</td>\n",
       "      <td>13.0721</td>\n",
       "      <td>10.4740</td>\n",
       "      <td>0.62351</td>\n",
       "    </tr>\n",
       "    <tr>\n",
       "      <th>...</th>\n",
       "      <td>...</td>\n",
       "      <td>...</td>\n",
       "      <td>...</td>\n",
       "      <td>...</td>\n",
       "      <td>...</td>\n",
       "      <td>...</td>\n",
       "    </tr>\n",
       "    <tr>\n",
       "      <th>9990</th>\n",
       "      <td>9991</td>\n",
       "      <td>9.1535</td>\n",
       "      <td>8.3352</td>\n",
       "      <td>10.9256</td>\n",
       "      <td>11.3146</td>\n",
       "      <td>0.83352</td>\n",
       "    </tr>\n",
       "    <tr>\n",
       "      <th>9991</th>\n",
       "      <td>9992</td>\n",
       "      <td>9.4492</td>\n",
       "      <td>8.1078</td>\n",
       "      <td>11.0096</td>\n",
       "      <td>11.5627</td>\n",
       "      <td>0.81078</td>\n",
       "    </tr>\n",
       "    <tr>\n",
       "      <th>9992</th>\n",
       "      <td>9993</td>\n",
       "      <td>9.7893</td>\n",
       "      <td>7.5384</td>\n",
       "      <td>10.1918</td>\n",
       "      <td>11.0180</td>\n",
       "      <td>0.75384</td>\n",
       "    </tr>\n",
       "    <tr>\n",
       "      <th>9993</th>\n",
       "      <td>9994</td>\n",
       "      <td>9.4321</td>\n",
       "      <td>8.0167</td>\n",
       "      <td>9.5764</td>\n",
       "      <td>10.9514</td>\n",
       "      <td>0.80167</td>\n",
       "    </tr>\n",
       "    <tr>\n",
       "      <th>9998</th>\n",
       "      <td>9999</td>\n",
       "      <td>9.2456</td>\n",
       "      <td>7.8886</td>\n",
       "      <td>9.8151</td>\n",
       "      <td>10.7564</td>\n",
       "      <td>0.78886</td>\n",
       "    </tr>\n",
       "  </tbody>\n",
       "</table>\n",
       "<p>7143 rows × 6 columns</p>\n",
       "</div>"
      ],
      "text/plain": [
       "      Frame  THR4_ATP  THR4_ASP  TYR6_ATP  TYR6_ASP  THR4_ASP(nm)\n",
       "2         3    9.0066    6.0637   13.0924   11.3043       0.60637\n",
       "3         4    9.2002    6.0227   14.5282   10.1763       0.60227\n",
       "4         5    9.1294    5.9365   13.5321   10.6279       0.59365\n",
       "5         6    9.0462    6.2553   13.9060   10.4292       0.62553\n",
       "7         8    9.3256    6.2351   13.0721   10.4740       0.62351\n",
       "...     ...       ...       ...       ...       ...           ...\n",
       "9990   9991    9.1535    8.3352   10.9256   11.3146       0.83352\n",
       "9991   9992    9.4492    8.1078   11.0096   11.5627       0.81078\n",
       "9992   9993    9.7893    7.5384   10.1918   11.0180       0.75384\n",
       "9993   9994    9.4321    8.0167    9.5764   10.9514       0.80167\n",
       "9998   9999    9.2456    7.8886    9.8151   10.7564       0.78886\n",
       "\n",
       "[7143 rows x 6 columns]"
      ]
     },
     "execution_count": 20,
     "metadata": {},
     "output_type": "execute_result"
    }
   ],
   "source": [
    "distances[distances[\"THR4_ATP\"] > 9]"
   ]
  },
  {
   "attachments": {},
   "cell_type": "markdown",
   "metadata": {},
   "source": [
    "## Pandas and NumPy\n",
    "\n",
    "Another commonly used library in data science and scientifid programming is called [NumPy](https://numpy.org/).\n",
    "\n",
    "Pandas dataframes are built on top of a data structure known as the NumPy Array..\n",
    "\n",
    "In general, you should use pandas dataframe when working with data which is:\n",
    "\n",
    "* Two dimensional (rows and columns).\n",
    "\n",
    "* Labeled.\n",
    "\n",
    "* Mixed type.\n",
    "\n",
    "* Something for which you would like to be able to easily get statistics.\n",
    "\n",
    "You should work with NumPy arrays when:\n",
    "\n",
    "* You have higher dimensional data (collection of two dimensional arrays).\n",
    "\n",
    "* You need to perform advanced mathematics like linear algebra.\n",
    "\n",
    "* You are using a library which requires NumPy arrays (scikitlearn).\n",
    "\n",
    "To convert a dataframe to a numpy array, use the function `.to_numpy()`. \n"
   ]
  },
  {
   "cell_type": "code",
   "execution_count": 22,
   "metadata": {},
   "outputs": [
    {
     "name": "stdout",
     "output_type": "stream",
     "text": [
      "[[1.00000e+00 8.95420e+00 5.80240e+00 1.15478e+01 9.95570e+00 5.80240e-01]\n",
      " [2.00000e+00 8.61810e+00 6.09420e+00 1.39594e+01 1.16945e+01 6.09420e-01]\n",
      " [3.00000e+00 9.00660e+00 6.06370e+00 1.30924e+01 1.13043e+01 6.06370e-01]\n",
      " ...\n",
      " [9.99800e+03 8.66250e+00 7.73060e+00 9.54690e+00 1.03063e+01 7.73060e-01]\n",
      " [9.99900e+03 9.24560e+00 7.88860e+00 9.81510e+00 1.07564e+01 7.88860e-01]\n",
      " [1.00000e+04 8.81350e+00 7.91700e+00 9.95170e+00 1.07848e+01 7.91700e-01]]\n"
     ]
    }
   ],
   "source": [
    "distances_array = distances.to_numpy()\n",
    "print(distances_array)"
   ]
  },
  {
   "attachments": {},
   "cell_type": "markdown",
   "metadata": {},
   "source": [
    "After you use the `to_numpy()` function, you will gt a NumPy array. \n",
    "A NumPy array does not have columnn names.\n",
    "You can slice a NumPy array by using square brackets `[]` and the same slicing you used with\n",
    "pandas dataframes and `iloc`."
   ]
  },
  {
   "cell_type": "code",
   "execution_count": 23,
   "metadata": {},
   "outputs": [
    {
     "data": {
      "text/plain": [
       "array([[8.9542, 5.8024],\n",
       "       [8.6181, 6.0942],\n",
       "       [9.0066, 6.0637],\n",
       "       [9.2002, 6.0227],\n",
       "       [9.1294, 5.9365],\n",
       "       [9.0462, 6.2553],\n",
       "       [8.8657, 5.9186],\n",
       "       [9.3256, 6.2351],\n",
       "       [9.4184, 6.1993],\n",
       "       [9.06  , 6.0478]])"
      ]
     },
     "execution_count": 23,
     "metadata": {},
     "output_type": "execute_result"
    }
   ],
   "source": [
    "distances_array[0:10, 1:3]"
   ]
  },
  {
   "attachments": {},
   "cell_type": "markdown",
   "metadata": {},
   "source": [
    "## Your Turn\n",
    "\n",
    "``````{admonition} Pandas Exercise\n",
    ":class: exercise\n",
    "\n",
    "Read in file `PubChemElements_all.csv`. \n",
    "\n",
    "1. Calculate melting points in celsius and save in a new column. The columns with melting and boiling points use Kelvin.\n",
    "2. Calculate column statistics and save them in a new dataframe.\n",
    "3. Find elements where the boiling point is greater than the average boiling point.\n",
    "\n",
    "````{admonition} Solution\n",
    ":class: solution dropdown\n",
    "\n",
    "This shows one potential solution.\n",
    "\n",
    "```python\n",
    "periodic_data = pd.read_csv(\"data/PubChemElements_all.csv\")\n",
    "\n",
    "# 1 - Calculate melting points in celsius and save in a new column.\n",
    "periodic_data[\"MeltingPointC\"] = periodic_data[\"MeltingPoint\"] - 273.15\n",
    "\n",
    "# 2 - Calculate the column statistics and sav them in a new dataframe.\n",
    "stats = periodic_data.describe()\n",
    "\n",
    "# 3. Find elements where the boiling point is greater than the average.\n",
    "periodic_data[ periodic_data[\"BoilingPoint\"] > periodic_data[\"BoilingPoint\"].mean() ]\n",
    "```\n",
    "\n",
    "``````"
   ]
  },
  {
   "cell_type": "code",
   "execution_count": 27,
   "metadata": {},
   "outputs": [],
   "source": [
    "\n"
   ]
  },
  {
   "cell_type": "code",
   "execution_count": null,
   "metadata": {},
   "outputs": [],
   "source": []
  }
 ],
 "metadata": {
  "kernelspec": {
   "display_name": "molssi-training",
   "language": "python",
   "name": "python3"
  },
  "language_info": {
   "codemirror_mode": {
    "name": "ipython",
    "version": 3
   },
   "file_extension": ".py",
   "mimetype": "text/x-python",
   "name": "python",
   "nbconvert_exporter": "python",
   "pygments_lexer": "ipython3",
   "version": "3.11.0"
  },
  "orig_nbformat": 4,
  "vscode": {
   "interpreter": {
    "hash": "16d4a7bb199d969b1271ebe46f77414b0d9cd01b3c3983c2b2742fc6cd4503d3"
   }
  }
 },
 "nbformat": 4,
 "nbformat_minor": 2
}
