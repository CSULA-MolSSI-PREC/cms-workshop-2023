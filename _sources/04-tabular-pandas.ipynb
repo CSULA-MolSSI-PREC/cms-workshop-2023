{
 "cells": [
  {
   "attachments": {},
   "cell_type": "markdown",
   "metadata": {},
   "source": [
    "# Analyzing Tabular Data\n",
    "\n",
    "```{admonition} Overview\n",
    ":class: overview\n",
    "\n",
    "Questions:\n",
    "\n",
    "* How do I work with data presented in tables?\n",
    "\n",
    "Objectives:\n",
    "\n",
    "* Use functions in `pandas` to read in tabular data.\n",
    "\n",
    "* Access information in a data frame using column names and row numbers.\n",
    "\n",
    "```\n",
    "\n",
    "Most scientists work with a lot of numerical data. In this module we will focus on reading in and analyzing numerical data, visualizing the data, and working with arrays.\n",
    "\n",
    "## Reading in Tabular Data\n",
    "\n",
    "As we already discussed, there are many ways to read in data from files in Python. \n",
    "In our last module, we used the readlines() function to read in a complex output file. \n",
    "In theory, you could always use the readlines() function, and then use the data parsing tools we learned in the previous module to format the data as you needed. \n",
    "But sometimes there are other ways that make more sense, particularly if the data is formatted in a table. \n",
    "\n",
    "A common table format is the `CSV` file or `comma separated values`.\n",
    "This is exactly what it sounds like. \n",
    "Data is presented in rows, with each value separated by a comma. \n",
    "If you have data in a spreadsheet program that you need to import into a python code, you can save the data as a csvfile to read it in.\n",
    "\n",
    "In this example, we have a CSV file that contains data from a molecular dynamics trajectory. \n",
    "We have a 20 ns simulation that used a 2 fs timestep. \n",
    "The data was saved to the trajectory file every 1000 steps, so our file has 10,000 timesteps. \n",
    "At each timestep, we are interested in the distance between particular atoms. \n",
    "These trajectories were generated with the AMBER molecular dynamics program and the distances were measured with the python program MDAnalysis. \n",
    "The table of atomic distances was saved as a CSV file called “distance_data_headers.csv”. \n",
    "This file was downloaded as part of your lesson materials. \n",
    "Open the file in a text editor and study it to determine its structure.\n",
    "\n",
    "In analyzing tabular data, we often need to perform the same types of calculations (averaging, calculating the minimum or maximum of the data set), so we are once again going to use a Python library, this time a library that contains lots of functions to work with tables.\n",
    "\n",
    "This library is called `pandas`. When it is imported, it is usually shortened to `pd`."
   ]
  },
  {
   "cell_type": "code",
   "execution_count": null,
   "metadata": {},
   "outputs": [],
   "source": [
    "import pandas as pd"
   ]
  },
  {
   "attachments": {},
   "cell_type": "markdown",
   "metadata": {},
   "source": [
    "The function we will use is called `read_csv`. \n",
    "You can read more about this function in your Jupyter notebook by using\n",
    "\n",
    "```python\n",
    "help(pd.read_csv)\n",
    "```\n",
    "\n",
    "```{admonition} Library Documentation\n",
    ":class: tip\n",
    "\n",
    "Most popular Python libraries have very good online documentation. \n",
    "You can find the pandas documentation by googling \"pandas docs\".\n",
    "You will be able to find the same help message you get for `read_csv` as well as tutorials and other types of documentation.\n",
    "\n",
    "1. [Pandas Documentation](https://pandas.pydata.org/docs/)\n",
    "2. [`read_csv` documentation](https://pandas.pydata.org/docs/reference/api/pandas.read_csv.html)\n",
    "```\n",
    "\n",
    "To get started, we will make a variable for our file path, then use that variable in the `read_csv` function."
   ]
  },
  {
   "cell_type": "code",
   "execution_count": null,
   "metadata": {},
   "outputs": [],
   "source": [
    "distance_file = \"data/distance_data_headers.csv\"\n",
    "\n",
    "distances = pd.read_csv(distance_file)"
   ]
  },
  {
   "attachments": {},
   "cell_type": "markdown",
   "metadata": {},
   "source": [
    "The variable called `distances` is a `pandas dataframe`. \n",
    "When we want to look at a dataframe, we should not print it. \n",
    "We should instead put it as the last thing in a cell.\n",
    "This is because pandas dataframes are rendered in a special way in the Jupyter notebook.\n",
    "If you use the `print` function with them, they will not look as nice."
   ]
  },
  {
   "cell_type": "code",
   "execution_count": null,
   "metadata": {},
   "outputs": [],
   "source": [
    "distances"
   ]
  },
  {
   "attachments": {},
   "cell_type": "markdown",
   "metadata": {},
   "source": [
    "This output gives us some information about what is in the dataframe.\n",
    "You can see that pandas made the first row in the file into headers.\n",
    "It also tells us that we have a table with 10,000 rows and 5 columns."
   ]
  },
  {
   "attachments": {},
   "cell_type": "markdown",
   "metadata": {},
   "source": [
    "## Accessing Data in the Data Frame\n",
    "\n",
    "One way to get information in a data frame is by using the headers, or the column names using squre brackets.\n",
    "The synatx for this is\n",
    "\n",
    "```python\n",
    "\n",
    "dataframe[\"column_name\"]\n",
    "```\n",
    "\n",
    "For example, to get the column \"THR4_ATP\", we put the name in square brackets."
   ]
  },
  {
   "cell_type": "code",
   "execution_count": null,
   "metadata": {},
   "outputs": [],
   "source": [
    "distances[\"THR4_ATP\"]"
   ]
  },
  {
   "attachments": {},
   "cell_type": "markdown",
   "metadata": {},
   "source": [
    "If you want multiple columns, you use a list of column names in square brackets."
   ]
  },
  {
   "cell_type": "code",
   "execution_count": null,
   "metadata": {},
   "outputs": [],
   "source": [
    "distances[[\"THR4_ATP\", \"TYR6_ATP\"]]"
   ]
  },
  {
   "attachments": {},
   "cell_type": "markdown",
   "metadata": {},
   "source": [
    "If we want to get information in the dataframe using row and column numbers, we use the `iloc` function.\n",
    "\n",
    "The syntax for `iloc` is\n",
    "\n",
    "```python\n",
    "dataframe.iloc[row_number, column_number]\n",
    "```\n",
    "\n",
    "If you specify only a row number, you will get all the columns."
   ]
  },
  {
   "cell_type": "code",
   "execution_count": null,
   "metadata": {},
   "outputs": [],
   "source": [
    "# This will get the first row, all of the columns.\n",
    "distances.iloc[0]"
   ]
  },
  {
   "cell_type": "code",
   "execution_count": null,
   "metadata": {},
   "outputs": [],
   "source": [
    "# This will get the first row and the second column.\n",
    "distances.iloc[0, 1]"
   ]
  },
  {
   "attachments": {},
   "cell_type": "markdown",
   "metadata": {},
   "source": [
    "``````{admonition} Check Your Understanding\n",
    ":class: exercise\n",
    "\n",
    "How would you get the `THR4_ASP` column?\n",
    "\n",
    "How would you get the value in row index 10 of the `THR4_ASP` column?\n",
    "\n",
    "````{admonition} Solution\n",
    ":class: solution dropdown\n",
    "\n",
    "```python\n",
    "# Get the THR4_ASP column\n",
    "distances[\"THR4_ASP\"]\n",
    "\n",
    "# Get row 1o of the THR4_ASP column.\n",
    "distances[\"THR4_ASP\"].iloc[10]\n",
    "\n",
    "```\n",
    "````\n",
    "``````"
   ]
  },
  {
   "attachments": {},
   "cell_type": "markdown",
   "metadata": {},
   "source": [
    "### Slicing\n",
    "\n",
    "Similar to lists, you can slice pandas dataframes when you use `iloc`. \n",
    "This allows you to get a range of rows or columns. \n",
    "To take a slice, you use a colon:\n",
    "\n",
    "```python\n",
    "\n",
    "dataframe.iloc[row_start:row_end, column_start:column_end]\n",
    "```"
   ]
  },
  {
   "cell_type": "code",
   "execution_count": null,
   "metadata": {},
   "outputs": [],
   "source": [
    "distances.iloc[0:10, :2]"
   ]
  },
  {
   "attachments": {},
   "cell_type": "markdown",
   "metadata": {},
   "source": [
    "## Analyzing Tabular Data\n",
    "\n",
    "A pandas dataframe has a number of functions built in that you can use to analyze your data.\n",
    "\n",
    "The first we will look at is the `mean` function. If we do `dataframe.mean()`, we will get the average value of each column."
   ]
  },
  {
   "cell_type": "code",
   "execution_count": null,
   "metadata": {},
   "outputs": [],
   "source": [
    "distances.mean()"
   ]
  },
  {
   "attachments": {},
   "cell_type": "markdown",
   "metadata": {},
   "source": [
    "Similarly, we can get the standard deviation of each column by using the `std` function."
   ]
  },
  {
   "cell_type": "code",
   "execution_count": null,
   "metadata": {},
   "outputs": [],
   "source": [
    "distances.std()"
   ]
  },
  {
   "attachments": {},
   "cell_type": "markdown",
   "metadata": {},
   "source": [
    "You can quickly get all descriptive statistics of all of the columns by using `.describe`."
   ]
  },
  {
   "cell_type": "code",
   "execution_count": null,
   "metadata": {},
   "outputs": [],
   "source": [
    "distances.describe()"
   ]
  },
  {
   "attachments": {},
   "cell_type": "markdown",
   "metadata": {},
   "source": [
    "The output of these functions is a pandas dataframe, so we can save our results in a variable and access it the same we we did with our other dataframe."
   ]
  },
  {
   "cell_type": "code",
   "execution_count": null,
   "metadata": {},
   "outputs": [],
   "source": [
    "statistics = distances.describe()"
   ]
  },
  {
   "cell_type": "code",
   "execution_count": null,
   "metadata": {},
   "outputs": [],
   "source": [
    "statistics"
   ]
  },
  {
   "cell_type": "code",
   "execution_count": null,
   "metadata": {},
   "outputs": [],
   "source": [
    "# Get the THR4_ATP column\n",
    "statistics[\"THR4_ATP\"]"
   ]
  },
  {
   "attachments": {},
   "cell_type": "markdown",
   "metadata": {},
   "source": [
    "## Writing Files using Pandas\n",
    "\n",
    "Pandas has built-in functions to write our data to files. \n",
    "We can save our results to a new CSV file using the function `to_csv`."
   ]
  },
  {
   "cell_type": "code",
   "execution_count": null,
   "metadata": {},
   "outputs": [],
   "source": [
    "# save a file called \"analysis.csv\"\n",
    "statistics.to_csv(\"analysis.csv\")"
   ]
  },
  {
   "attachments": {},
   "cell_type": "markdown",
   "metadata": {},
   "source": [
    "## Mathematical Operations and Filtering\n",
    "\n",
    "Pandas dataframes will often allow you to avoid using `for` loops.\n",
    "For example, if we wanted to multiply a column by 10, we could do"
   ]
  },
  {
   "cell_type": "code",
   "execution_count": null,
   "metadata": {},
   "outputs": [],
   "source": [
    "distances[\"THR4_ASP\"] * 10"
   ]
  },
  {
   "attachments": {},
   "cell_type": "markdown",
   "metadata": {},
   "source": [
    "This would also work for adding, subtracting, or multiplying. \n",
    "We can also easily save our calculated value as a new column. The syntax for this is\n",
    "\n",
    "```python\n",
    "dataframe[\"new_column_name\"] = calculation\n",
    "```\n",
    "\n",
    "Imagine we wanted to convert our distances to nanometers, we could do"
   ]
  },
  {
   "cell_type": "code",
   "execution_count": null,
   "metadata": {},
   "outputs": [],
   "source": [
    "distances[\"THR4_ASP(nm)\"] = distances[\"THR4_ASP\"] * 0.1\n",
    "distances"
   ]
  },
  {
   "attachments": {},
   "cell_type": "markdown",
   "metadata": {},
   "source": [
    "Instead of writing an `if` statement, we can do"
   ]
  },
  {
   "cell_type": "code",
   "execution_count": null,
   "metadata": {},
   "outputs": [],
   "source": [
    "distances[\"THR4_ATP\"] > 9"
   ]
  },
  {
   "attachments": {},
   "cell_type": "markdown",
   "metadata": {},
   "source": [
    "We can then use that as an index to get the rows where the condition is True"
   ]
  },
  {
   "cell_type": "code",
   "execution_count": null,
   "metadata": {},
   "outputs": [],
   "source": [
    "distances[distances[\"THR4_ATP\"] > 9]"
   ]
  },
  {
   "attachments": {},
   "cell_type": "markdown",
   "metadata": {},
   "source": [
    "## Pandas and NumPy\n",
    "\n",
    "## Dataframe and Array Axes\n",
    "\n",
    "## Your Turn\n",
    "\n",
    "Read in file `PubChemElements_all.csv`. \n",
    "\n",
    "1. Calculate melting points in Kelvin and save in a new column.\n",
    "2. Calculate column statistics and save them in a new dataframe.\n",
    "3. Find elements where the boiling point is greater than the average boiling point."
   ]
  },
  {
   "cell_type": "markdown",
   "metadata": {},
   "source": []
  }
 ],
 "metadata": {
  "kernelspec": {
   "display_name": "molssi-training",
   "language": "python",
   "name": "python3"
  },
  "language_info": {
   "codemirror_mode": {
    "name": "ipython",
    "version": 3
   },
   "file_extension": ".py",
   "mimetype": "text/x-python",
   "name": "python",
   "nbconvert_exporter": "python",
   "pygments_lexer": "ipython3",
   "version": "3.11.0"
  },
  "orig_nbformat": 4,
  "vscode": {
   "interpreter": {
    "hash": "16d4a7bb199d969b1271ebe46f77414b0d9cd01b3c3983c2b2742fc6cd4503d3"
   }
  }
 },
 "nbformat": 4,
 "nbformat_minor": 2
}
